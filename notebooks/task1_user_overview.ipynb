{
 "cells": [
  {
   "cell_type": "code",
   "execution_count": null,
   "metadata": {},
   "outputs": [],
   "source": [
    "# Import necessary libraries\n",
    "import pandas as pd\n",
    "import matplotlib.pyplot as plt\n",
    "import seaborn as sns\n",
    "\n",
    "# Load the dataset\n",
    "data = pd.read_csv('user_data.csv')\n",
    "\n",
    "# Overview of the dataset\n",
    "print(\"Dataset Overview:\")\n",
    "print(data.info())\n",
    "print(\"\\nSummary Statistics:\")\n",
    "print(data.describe())\n",
    "\n",
    "# Aggregating data for user overview\n",
    "user_overview = data.groupby('user_id').agg(\n",
    "    total_usage=pd.NamedAgg(column='usage', aggfunc='sum'),\n",
    "    avg_session_time=pd.NamedAgg(column='session_time', aggfunc='mean'),\n",
    "    total_sessions=pd.NamedAgg(column='session_id', aggfunc='nunique'),\n",
    ").reset_index()\n",
    "\n",
    "# Save the aggregated data to a CSV\n",
    "user_overview.to_csv('user_overview.csv', index=False)\n",
    "\n",
    "# Visualizations\n",
    "plt.figure(figsize=(10, 6))\n",
    "sns.histplot(user_overview['total_usage'], bins=20, kde=True, color='blue')\n",
    "plt.title('Total Usage Distribution')\n",
    "plt.xlabel('Total Usage')\n",
    "plt.ylabel('Frequency')\n",
    "plt.show()\n",
    "\n",
    "plt.figure(figsize=(10, 6))\n",
    "sns.histplot(user_overview['avg_session_time'], bins=20, kde=True, color='green')\n",
    "plt.title('Average Session Time Distribution')\n",
    "plt.xlabel('Average Session Time')\n",
    "plt.ylabel('Frequency')\n",
    "plt.show()\n"
   ]
  }
 ],
 "metadata": {
  "kernelspec": {
   "display_name": "Python 3",
   "language": "python",
   "name": "python3"
  },
  "language_info": {
   "name": "python",
   "version": "3.10.12"
  }
 },
 "nbformat": 4,
 "nbformat_minor": 2
}
